{
  "nbformat": 4,
  "nbformat_minor": 0,
  "metadata": {
    "colab": {
      "provenance": []
    },
    "kernelspec": {
      "name": "python3",
      "display_name": "Python 3"
    },
    "language_info": {
      "name": "python"
    }
  },
  "cells": [
    {
      "cell_type": "code",
      "execution_count": 21,
      "metadata": {
        "colab": {
          "base_uri": "https://localhost:8080/"
        },
        "id": "Tqbo-Ze9Hyy2",
        "outputId": "4274a164-244e-481c-f65a-d2f463e3bcc8"
      },
      "outputs": [
        {
          "output_type": "stream",
          "name": "stdout",
          "text": [
            "\r0% [Working]\r            \rHit:1 https://developer.download.nvidia.com/compute/cuda/repos/ubuntu2204/x86_64  InRelease\n",
            "Hit:2 https://cloud.r-project.org/bin/linux/ubuntu jammy-cran40/ InRelease\n",
            "Get:3 http://security.ubuntu.com/ubuntu jammy-security InRelease [110 kB]\n",
            "Hit:4 http://archive.ubuntu.com/ubuntu jammy InRelease\n",
            "Get:5 http://archive.ubuntu.com/ubuntu jammy-updates InRelease [119 kB]\n",
            "Hit:6 https://ppa.launchpadcontent.net/c2d4u.team/c2d4u4.0+/ubuntu jammy InRelease\n",
            "Get:7 http://archive.ubuntu.com/ubuntu jammy-backports InRelease [108 kB]\n",
            "Hit:8 https://ppa.launchpadcontent.net/deadsnakes/ppa/ubuntu jammy InRelease\n",
            "Hit:9 https://ppa.launchpadcontent.net/graphics-drivers/ppa/ubuntu jammy InRelease\n",
            "Hit:10 https://ppa.launchpadcontent.net/ubuntugis/ppa/ubuntu jammy InRelease\n",
            "Fetched 337 kB in 3s (129 kB/s)\n",
            "Reading package lists... Done\n"
          ]
        }
      ],
      "source": [
        "import os\n",
        "# Find the latest version of spark 3.x  from http://www.apache.org/dist/spark/ and enter as the spark version\n",
        "# For example:\n",
        "# spark_version = 'spark-3.4.0'\n",
        "spark_version = 'spark-3.4.0'\n",
        "os.environ['SPARK_VERSION']=spark_version\n",
        "\n",
        "# Install Spark and Java\n",
        "!apt-get update\n",
        "!apt-get install openjdk-11-jdk-headless -qq > /dev/null\n",
        "!wget -q http://www.apache.org/dist/spark/$SPARK_VERSION/$SPARK_VERSION-bin-hadoop3.tgz\n",
        "!tar xf $SPARK_VERSION-bin-hadoop3.tgz\n",
        "!pip install -q findspark\n",
        "\n",
        "# Set Environment Variables\n",
        "os.environ[\"JAVA_HOME\"] = \"/usr/lib/jvm/java-11-openjdk-amd64\"\n",
        "os.environ[\"SPARK_HOME\"] = f\"/content/{spark_version}-bin-hadoop3\"\n",
        "\n",
        "# Start a SparkSession\n",
        "import findspark\n",
        "findspark.init()"
      ]
    },
    {
      "cell_type": "code",
      "source": [
        "# Import packages\n",
        "from pyspark.sql import SparkSession\n",
        "import time\n",
        "\n",
        "# Create a SparkSession\n",
        "spark = SparkSession.builder.appName(\"SparkSQL\").getOrCreate()"
      ],
      "metadata": {
        "id": "dStmTHw-IYWr"
      },
      "execution_count": 22,
      "outputs": []
    },
    {
      "cell_type": "code",
      "source": [
        "# 1. Read in the AWS S3 bucket into a DataFrame.\n",
        "from pyspark import SparkFiles\n",
        "url = \"https://2u-data-curriculum-team.s3.amazonaws.com/dataviz-classroom/v1.2/22-big-data/home_sales_revised.csv\"\n",
        "spark.sparkContext.addFile(url)\n",
        "homes_df = spark.read.csv(SparkFiles.get('home_sales_revised.csv'), sep=\",\", header=True)\n",
        "\n",
        "# Show DataFrame\n",
        "homes_df.show()"
      ],
      "metadata": {
        "colab": {
          "base_uri": "https://localhost:8080/"
        },
        "id": "825phuFEIYut",
        "outputId": "7b2f11f8-1e0f-44b5-f36f-e9721fe04414"
      },
      "execution_count": 23,
      "outputs": [
        {
          "output_type": "stream",
          "name": "stdout",
          "text": [
            "+--------------------+----------+----------+------+--------+---------+-----------+--------+------+----------+----+\n",
            "|                  id|      date|date_built| price|bedrooms|bathrooms|sqft_living|sqft_lot|floors|waterfront|view|\n",
            "+--------------------+----------+----------+------+--------+---------+-----------+--------+------+----------+----+\n",
            "|f8a53099-ba1c-47d...|2022-04-08|      2016|936923|       4|        3|       3167|   11733|     2|         1|  76|\n",
            "|7530a2d8-1ae3-451...|2021-06-13|      2013|379628|       2|        2|       2235|   14384|     1|         0|  23|\n",
            "|43de979c-0bf0-4c9...|2019-04-12|      2014|417866|       2|        2|       2127|   10575|     2|         0|   0|\n",
            "|b672c137-b88c-48b...|2019-10-16|      2016|239895|       2|        2|       1631|   11149|     2|         0|   0|\n",
            "|e0726d4d-d595-407...|2022-01-08|      2017|424418|       3|        2|       2249|   13878|     2|         0|   4|\n",
            "|5aa00529-0533-46b...|2019-01-30|      2017|218712|       2|        3|       1965|   14375|     2|         0|   7|\n",
            "|131492a1-72e2-4a8...|2020-02-08|      2017|419199|       2|        3|       2062|    8876|     2|         0|   6|\n",
            "|8d54a71b-c520-44e...|2019-07-21|      2010|323956|       2|        3|       1506|   11816|     1|         0|  25|\n",
            "|e81aacfe-17fe-46b...|2020-06-16|      2016|181925|       3|        3|       2137|   11709|     2|         0|  22|\n",
            "|2ed8d509-7372-46d...|2021-08-06|      2015|258710|       3|        3|       1918|    9666|     1|         0|  25|\n",
            "|f876d86f-3c9f-42b...|2019-02-27|      2011|167864|       3|        3|       2471|   13924|     2|         0|  15|\n",
            "|0a2bd445-8508-4d8...|2021-12-30|      2014|337527|       2|        3|       1926|   12556|     1|         0|  23|\n",
            "|941bad30-eb49-4a7...|2020-05-09|      2015|229896|       3|        3|       2197|    8641|     1|         0|   3|\n",
            "|dd61eb34-6589-4c0...|2021-07-25|      2016|210247|       3|        2|       1672|   11986|     2|         0|  28|\n",
            "|f1e4cef7-d151-439...|2019-02-01|      2011|398667|       2|        3|       2331|   11356|     1|         0|   7|\n",
            "|ea620c7b-c2f7-4c6...|2021-05-31|      2011|437958|       3|        3|       2356|   11052|     1|         0|  26|\n",
            "|f233cb41-6f33-4b0...|2021-07-18|      2016|437375|       4|        3|       1704|   11721|     2|         0|  34|\n",
            "|c797ca12-52cd-4b1...|2019-06-08|      2015|288650|       2|        3|       2100|   10419|     2|         0|   7|\n",
            "|0cfe57f3-28c2-472...|2019-10-04|      2015|308313|       3|        3|       1960|    9453|     2|         0|   2|\n",
            "|4566cd2a-ac6e-435...|2019-07-15|      2016|177541|       3|        3|       2130|   10517|     2|         0|  25|\n",
            "+--------------------+----------+----------+------+--------+---------+-----------+--------+------+----------+----+\n",
            "only showing top 20 rows\n",
            "\n"
          ]
        }
      ]
    },
    {
      "cell_type": "code",
      "source": [
        "# 2. Create a temporary view of the DataFrame.\n",
        "homes_df.createOrReplaceTempView('home_data')\n"
      ],
      "metadata": {
        "id": "Wdtspgk5IY2c"
      },
      "execution_count": 24,
      "outputs": []
    },
    {
      "cell_type": "code",
      "source": [
        "# 3. What is the average price for a four bedroom house sold in each year rounded to two decimal places?\n",
        "spark.sql(\"\"\"\n",
        "SELECT YEAR(date) AS Year,\n",
        "ROUND(AVG(price), 2) AS AveragePrice\n",
        "FROM home_data\n",
        "WHERE bedrooms = 4\n",
        "GROUP BY YEAR(date)\n",
        "ORDER BY YEAR(date)\n",
        "\"\"\").show()"
      ],
      "metadata": {
        "colab": {
          "base_uri": "https://localhost:8080/"
        },
        "id": "f1lDjc4cIY8v",
        "outputId": "17fbd0d0-7719-4dff-a2fa-8edd5b596e56"
      },
      "execution_count": 25,
      "outputs": [
        {
          "output_type": "stream",
          "name": "stdout",
          "text": [
            "+----+------------+\n",
            "|Year|AveragePrice|\n",
            "+----+------------+\n",
            "|2019|    300263.7|\n",
            "|2020|   298353.78|\n",
            "|2021|   301819.44|\n",
            "|2022|   296363.88|\n",
            "+----+------------+\n",
            "\n"
          ]
        }
      ]
    },
    {
      "cell_type": "code",
      "source": [
        "# 4. What is the average price of a home for each year the home was built that have 3 bedrooms and 3 bathrooms rounded to two decimal places?\n",
        "spark.sql(\"\"\"\n",
        "SELECT date_built AS Date_Built,\n",
        "ROUND(AVG(price), 2) AS Average_Price\n",
        "FROM home_data\n",
        "WHERE bedrooms = 3 AND bathrooms = 3\n",
        "GROUP BY date_built\n",
        "ORDER BY date_built\n",
        "\"\"\").show()"
      ],
      "metadata": {
        "colab": {
          "base_uri": "https://localhost:8080/"
        },
        "id": "zxI-KaH5IZDN",
        "outputId": "b0346fc9-d195-471c-fd0c-e810c76c6b10"
      },
      "execution_count": 26,
      "outputs": [
        {
          "output_type": "stream",
          "name": "stdout",
          "text": [
            "+----------+-------------+\n",
            "|Date_Built|Average_Price|\n",
            "+----------+-------------+\n",
            "|      2010|    292859.62|\n",
            "|      2011|    291117.47|\n",
            "|      2012|    293683.19|\n",
            "|      2013|    295962.27|\n",
            "|      2014|    290852.27|\n",
            "|      2015|     288770.3|\n",
            "|      2016|    290555.07|\n",
            "|      2017|    292676.79|\n",
            "+----------+-------------+\n",
            "\n"
          ]
        }
      ]
    },
    {
      "cell_type": "code",
      "source": [
        "#  5. What is the average price of a home for each year built that have 3 bedrooms, 3 bathrooms, with two floors,\n",
        "# and are greater than or equal to 2,000 square feet rounded to two decimal places?\n",
        "\n",
        "spark.sql(\"\"\"\n",
        "SELECT date_built AS Date_Built,\n",
        "ROUND(AVG(price), 2) AS Average_Price\n",
        "FROM home_data\n",
        "WHERE bedrooms = 3 AND bathrooms = 3 AND floors = 2 AND sqft_living >=2000\n",
        "GROUP BY date_built\n",
        "ORDER BY date_built\n",
        "\"\"\").show()"
      ],
      "metadata": {
        "colab": {
          "base_uri": "https://localhost:8080/"
        },
        "id": "M4nyAr51IZKB",
        "outputId": "59b2f357-f4e2-4acd-a318-c2b3da7e3126"
      },
      "execution_count": 27,
      "outputs": [
        {
          "output_type": "stream",
          "name": "stdout",
          "text": [
            "+----------+-------------+\n",
            "|Date_Built|Average_Price|\n",
            "+----------+-------------+\n",
            "|      2010|    285010.22|\n",
            "|      2011|    276553.81|\n",
            "|      2012|    307539.97|\n",
            "|      2013|    303676.79|\n",
            "|      2014|    298264.72|\n",
            "|      2015|    297609.97|\n",
            "|      2016|     293965.1|\n",
            "|      2017|    280317.58|\n",
            "+----------+-------------+\n",
            "\n"
          ]
        }
      ]
    },
    {
      "cell_type": "code",
      "source": [
        "# 6. What is the \"view\" rating for the average price of a home, rounded to two decimal places, where the homes are greater than\n",
        "# or equal to $350,000? Although this is a small dataset, determine the run time for this query.\n",
        "\n",
        "start_time = time.time()\n",
        "\n",
        "spark.sql(\"\"\"\n",
        "SELECT view AS View,\n",
        "ROUND(AVG(price), 2) AS AveragePrice\n",
        "FROM home_data\n",
        "WHERE price >= 350000\n",
        "GROUP BY view\n",
        "\"\"\").show()\n",
        "\n",
        "\n",
        "print(\"--- %s seconds ---\" % (time.time() - start_time))"
      ],
      "metadata": {
        "colab": {
          "base_uri": "https://localhost:8080/"
        },
        "id": "ui3hnya9IZQW",
        "outputId": "47fb3e92-ac45-4eac-fea6-b686f7b087e6"
      },
      "execution_count": 28,
      "outputs": [
        {
          "output_type": "stream",
          "name": "stdout",
          "text": [
            "+----+------------+\n",
            "|View|AveragePrice|\n",
            "+----+------------+\n",
            "|   7|   403005.77|\n",
            "|  51|   788128.21|\n",
            "|  15|    404673.3|\n",
            "|  54|   798684.82|\n",
            "|  11|   399548.12|\n",
            "|  29|   397771.65|\n",
            "|  69|   750537.94|\n",
            "|  42|    396964.5|\n",
            "|  87|   1072285.2|\n",
            "|  73|   752861.18|\n",
            "|  64|   767036.67|\n",
            "|   3|    398867.6|\n",
            "|  30|    397862.0|\n",
            "|  34|   401419.75|\n",
            "|  59|    791453.0|\n",
            "|   8|   398592.71|\n",
            "|  28|   402124.62|\n",
            "|  22|   402022.68|\n",
            "|  85|  1056336.74|\n",
            "|  16|   399586.53|\n",
            "+----+------------+\n",
            "only showing top 20 rows\n",
            "\n",
            "--- 1.1215674877166748 seconds ---\n"
          ]
        }
      ]
    },
    {
      "cell_type": "code",
      "source": [
        "# 7. Cache the the temporary table home_sales.\n",
        "spark.sql(\"cache table home_data\")"
      ],
      "metadata": {
        "colab": {
          "base_uri": "https://localhost:8080/"
        },
        "id": "jxnGG_yCjRw_",
        "outputId": "55741b90-45ae-4681-c42b-2b2f48d3bc6e"
      },
      "execution_count": 29,
      "outputs": [
        {
          "output_type": "execute_result",
          "data": {
            "text/plain": [
              "DataFrame[]"
            ]
          },
          "metadata": {},
          "execution_count": 29
        }
      ]
    },
    {
      "cell_type": "code",
      "source": [
        "# 8. Check if the table is cached.\n",
        "spark.catalog.isCached('home_data')\n"
      ],
      "metadata": {
        "colab": {
          "base_uri": "https://localhost:8080/"
        },
        "id": "--5AVpPEjR4C",
        "outputId": "05741c73-d4b3-4be5-abc8-d34cc9931ff9"
      },
      "execution_count": 30,
      "outputs": [
        {
          "output_type": "execute_result",
          "data": {
            "text/plain": [
              "True"
            ]
          },
          "metadata": {},
          "execution_count": 30
        }
      ]
    },
    {
      "cell_type": "code",
      "source": [
        "# 9. Using the cached data, run the query that filters out the view ratings with average price\n",
        "#  greater than or equal to $350,000. Determine the runtime and compare it to uncached runtime.\n",
        "\n",
        "start_time = time.time()\n",
        "\n",
        "spark.sql(\"\"\"\n",
        "SELECT view AS View,\n",
        "ROUND(AVG(price), 2) AS AveragePrice\n",
        "FROM home_data\n",
        "WHERE price >= 350000\n",
        "GROUP BY view\n",
        "\"\"\").show()\n",
        "\n",
        "print(\"--- %s seconds ---\" % (time.time() - start_time))\n"
      ],
      "metadata": {
        "colab": {
          "base_uri": "https://localhost:8080/"
        },
        "id": "7bDgaB5ojSAI",
        "outputId": "43ae9ba5-46c8-403b-ca1b-b3eda7e98cba"
      },
      "execution_count": 31,
      "outputs": [
        {
          "output_type": "stream",
          "name": "stdout",
          "text": [
            "+----+------------+\n",
            "|View|AveragePrice|\n",
            "+----+------------+\n",
            "|   7|   403005.77|\n",
            "|  51|   788128.21|\n",
            "|  15|    404673.3|\n",
            "|  54|   798684.82|\n",
            "|  11|   399548.12|\n",
            "|  29|   397771.65|\n",
            "|  69|   750537.94|\n",
            "|  42|    396964.5|\n",
            "|  87|   1072285.2|\n",
            "|  73|   752861.18|\n",
            "|  64|   767036.67|\n",
            "|   3|    398867.6|\n",
            "|  30|    397862.0|\n",
            "|  34|   401419.75|\n",
            "|  59|    791453.0|\n",
            "|   8|   398592.71|\n",
            "|  28|   402124.62|\n",
            "|  22|   402022.68|\n",
            "|  85|  1056336.74|\n",
            "|  16|   399586.53|\n",
            "+----+------------+\n",
            "only showing top 20 rows\n",
            "\n",
            "--- 0.799462080001831 seconds ---\n"
          ]
        }
      ]
    },
    {
      "cell_type": "code",
      "source": [
        "# 10. Partition by the \"date_built\" field on the formatted parquet home sales data\n",
        "homes_df.write.partitionBy(\"date_built\").mode(\"overwrite\").parquet(\"partitioned_homes\")"
      ],
      "metadata": {
        "id": "LgeeJY0GjSHQ"
      },
      "execution_count": 32,
      "outputs": []
    },
    {
      "cell_type": "code",
      "source": [
        "# 11. Read the formatted parquet data.\n",
        "parquet_homes_df = spark.read.parquet(\"partitioned_homes\")"
      ],
      "metadata": {
        "id": "pVEYrNKvjSOw"
      },
      "execution_count": 33,
      "outputs": []
    },
    {
      "cell_type": "code",
      "source": [
        "# 12. Create a temporary table for the parquet data.\n",
        "parquet_homes_df.createOrReplaceTempView('parquet_home_sales')"
      ],
      "metadata": {
        "id": "e-H9VwRNjSVt"
      },
      "execution_count": 34,
      "outputs": []
    },
    {
      "cell_type": "code",
      "source": [
        "# 13. Run the query that filters out the view ratings with average price of greater than or eqaul to $350,000\n",
        "# with the parquet DataFrame. Round your average to two decimal places.\n",
        "# Determine the runtime and compare it to the cached version.\n",
        "\n",
        "start_time = time.time()\n",
        "\n",
        "spark.sql(\"\"\"\n",
        "SELECT view AS View,\n",
        "ROUND(AVG(price), 2) AS AveragePrice\n",
        "FROM parquet_home_sales\n",
        "WHERE price >= 350000\n",
        "GROUP BY view\n",
        "\"\"\").show()\n",
        "\n",
        "print(\"--- %s seconds ---\" % (time.time() - start_time))"
      ],
      "metadata": {
        "colab": {
          "base_uri": "https://localhost:8080/"
        },
        "id": "lAqE6JbGjSco",
        "outputId": "d42c8ea1-0600-4001-80e8-d51d519e0158"
      },
      "execution_count": 35,
      "outputs": [
        {
          "output_type": "stream",
          "name": "stdout",
          "text": [
            "+----+------------+\n",
            "|View|AveragePrice|\n",
            "+----+------------+\n",
            "|   7|   403005.77|\n",
            "|  51|   788128.21|\n",
            "|  15|    404673.3|\n",
            "|  54|   798684.82|\n",
            "|  11|   399548.12|\n",
            "|  29|   397771.65|\n",
            "|  69|   750537.94|\n",
            "|  42|    396964.5|\n",
            "|  73|   752861.18|\n",
            "|  87|   1072285.2|\n",
            "|  64|   767036.67|\n",
            "|   3|    398867.6|\n",
            "|  30|    397862.0|\n",
            "|  34|   401419.75|\n",
            "|  59|    791453.0|\n",
            "|   8|   398592.71|\n",
            "|  28|   402124.62|\n",
            "|  22|   402022.68|\n",
            "|  85|  1056336.74|\n",
            "|  35|   401934.21|\n",
            "+----+------------+\n",
            "only showing top 20 rows\n",
            "\n",
            "--- 0.5250651836395264 seconds ---\n"
          ]
        }
      ]
    },
    {
      "cell_type": "code",
      "source": [
        "# 14. Uncache the home_sales temporary table.\n",
        "spark.catalog.uncacheTable('home_data')\n"
      ],
      "metadata": {
        "id": "hhaJcd02jSkG"
      },
      "execution_count": 36,
      "outputs": []
    },
    {
      "cell_type": "code",
      "source": [
        "# 15. Check if the home_sales is no longer cached\n",
        "spark.catalog.isCached('home_data')\n"
      ],
      "metadata": {
        "colab": {
          "base_uri": "https://localhost:8080/"
        },
        "id": "Xw1zdrs-jSrn",
        "outputId": "553e9449-5b39-4e89-ec88-9ab2d083f0e7"
      },
      "execution_count": 37,
      "outputs": [
        {
          "output_type": "execute_result",
          "data": {
            "text/plain": [
              "False"
            ]
          },
          "metadata": {},
          "execution_count": 37
        }
      ]
    }
  ]
}